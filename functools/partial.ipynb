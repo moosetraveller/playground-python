{
 "cells": [
  {
   "cell_type": "code",
   "execution_count": 1,
   "source": [
    "import functools"
   ],
   "outputs": [],
   "metadata": {}
  },
  {
   "cell_type": "markdown",
   "source": [
    "Using `functools.partial` to create \"copies\" of exisiting functions with pre-filled values."
   ],
   "metadata": {}
  },
  {
   "cell_type": "code",
   "execution_count": 2,
   "source": [
    "def say_hello(name):\n",
    "    \"\"\" Say hello \"\"\"\n",
    "    print(f\"Hello {name}\")\n",
    "   \n",
    "say_hello_to_heidi = functools.partial(say_hello, \"Heidi\")\n",
    "say_hello_to_nadja = functools.partial(say_hello, \"Nadja\")\n",
    "\n",
    "say_hello(\"Heinz-Günther\")\n",
    "say_hello_to_heidi()\n",
    "say_hello_to_nadja()"
   ],
   "outputs": [
    {
     "output_type": "stream",
     "name": "stdout",
     "text": [
      "Hello Heinz-Günther\n",
      "Hello Heidi\n",
      "Hello Nadja\n"
     ]
    }
   ],
   "metadata": {}
  },
  {
   "cell_type": "markdown",
   "source": [
    "Using `functools.update_wrapper` to copy `__name__` or `__doc__` attributes from original function to partial..."
   ],
   "metadata": {}
  },
  {
   "cell_type": "code",
   "execution_count": 3,
   "source": [
    "say_hello_to_bruno = functools.partial(say_hello, \"Bruno\")\n",
    "print(say_hello_to_bruno.__doc__)\n",
    "\n",
    "functools.update_wrapper(say_hello_to_bruno, say_hello)\n",
    "print(say_hello_to_bruno.__doc__)"
   ],
   "outputs": [
    {
     "output_type": "stream",
     "name": "stdout",
     "text": [
      "partial(func, *args, **keywords) - new function with partial application\n",
      "    of the given arguments and keywords.\n",
      "\n",
      " Say hello \n"
     ]
    }
   ],
   "metadata": {}
  },
  {
   "cell_type": "markdown",
   "source": [
    "`functools.partial` works with class methods as well"
   ],
   "metadata": {}
  },
  {
   "cell_type": "code",
   "execution_count": 4,
   "source": [
    "from enum import Enum\n",
    "\n",
    "Direction = Enum(\"Direction\", \"Left Right\")\n",
    "\n",
    "class Car():\n",
    "    def __init__(self, name):\n",
    "        self.name = name\n",
    "    \n",
    "    def drive(self, direction):\n",
    "        print(f\"Drive {self.name} {direction}\")\n",
    "        \n",
    "honda = Car(\"Honda\")\n",
    "kia = Car(\"Kia\")\n",
    "\n",
    "kia.drive(Direction.Left)\n",
    "\n",
    "drive_left = functools.partial(kia.drive, Direction.Left)\n",
    "drive_right = functools.partial(kia.drive, Direction.Right)\n",
    "\n",
    "drive_left()\n",
    "drive_right()"
   ],
   "outputs": [
    {
     "output_type": "stream",
     "name": "stdout",
     "text": [
      "Drive Kia Direction.Left\n",
      "Drive Kia Direction.Left\n",
      "Drive Kia Direction.Right\n"
     ]
    }
   ],
   "metadata": {}
  }
 ],
 "metadata": {
  "orig_nbformat": 4,
  "language_info": {
   "name": "python",
   "version": "3.7.4",
   "mimetype": "text/x-python",
   "codemirror_mode": {
    "name": "ipython",
    "version": 3
   },
   "pygments_lexer": "ipython3",
   "nbconvert_exporter": "python",
   "file_extension": ".py"
  },
  "kernelspec": {
   "name": "python3",
   "display_name": "Python 3.7.4 64-bit ('base': conda)"
  },
  "interpreter": {
   "hash": "dbd4a2e6cdeda9f1ac3c782dd11adfda6c1dce3fbf405b4039153283af48069c"
  }
 },
 "nbformat": 4,
 "nbformat_minor": 2
}